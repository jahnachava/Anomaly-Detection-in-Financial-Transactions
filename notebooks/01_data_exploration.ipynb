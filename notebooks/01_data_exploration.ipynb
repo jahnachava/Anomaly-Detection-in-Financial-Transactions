{
  "cells": [
    {
      "cell_type": "markdown",
      "metadata": {},
      "source": [
        "# Data Exploration for Financial Transaction Anomaly Detection\n",
        "\n",
        "This notebook explores the financial transaction dataset and provides insights into the data structure, patterns, and characteristics that will be useful for anomaly detection.\n",
        "\n",
        "## Table of Contents\n",
        "1. [Data Loading and Basic Information](#data-loading)\n",
        "2. [Data Quality Assessment](#data-quality)\n",
        "3. [Exploratory Data Analysis](#eda)\n",
        "4. [Feature Analysis](#feature-analysis)\n",
        "5. [Anomaly Distribution Analysis](#anomaly-distribution)\n",
        "6. [Correlation Analysis](#correlation)\n",
        "7. [Time Series Analysis](#time-series)\n",
        "8. [Summary and Insights](#summary)\n"
      ]
    },
    {
      "cell_type": "code",
      "execution_count": null,
      "metadata": {},
      "outputs": [],
      "source": [
        "# Import necessary libraries\n",
        "import sys\n",
        "import os\n",
        "sys.path.append('../src')\n",
        "\n",
        "import pandas as pd\n",
        "import numpy as np\n",
        "import matplotlib.pyplot as plt\n",
        "import seaborn as sns\n",
        "import plotly.express as px\n",
        "import plotly.graph_objects as go\n",
        "from plotly.subplots import make_subplots\n",
        "import warnings\n",
        "warnings.filterwarnings('ignore')\n",
        "\n",
        "# Set plotting style\n",
        "plt.style.use('seaborn-v0_8')\n",
        "sns.set_palette(\"husl\")\n",
        "\n",
        "# Import our custom modules\n",
        "from utils.config_loader import ConfigLoader\n",
        "from data_preprocessing import DataLoader, FeatureEngineer\n",
        "from visualization.plot_utils import PlotUtils\n"
      ]
    }
  ],
  "metadata": {
    "language_info": {
      "name": "python"
    }
  },
  "nbformat": 4,
  "nbformat_minor": 2
}
